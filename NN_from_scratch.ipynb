{
  "cells": [
    {
      "cell_type": "code",
      "execution_count": 158,
      "metadata": {
        "id": "6q6EjxSPrFXH"
      },
      "outputs": [],
      "source": [
        "import math\n",
        "import random\n",
        "import numpy as np\n",
        "import matplotlib.pyplot as plt\n",
        "%matplotlib inline"
      ]
    },
    {
      "cell_type": "code",
      "execution_count": 159,
      "metadata": {
        "id": "zZO-H_s7sN6T"
      },
      "outputs": [],
      "source": [
        "class Value:\n",
        "  def __init__(self, data, _children = (), _op = '', label = ''):\n",
        "    self.data = data\n",
        "    self._prev = set(_children)\n",
        "    self._op = _op\n",
        "    self.label = label\n",
        "    self.grad = 0.0\n",
        "    self._backward = lambda: None\n",
        "\n",
        "  # This is a wrapper function for printing and showing the Value Class structure\n",
        "  def __repr__(self):\n",
        "    return f\"Value(data = {self.data})\"\n",
        "\n",
        "  def __add__(self, other):\n",
        "    def _backward():\n",
        "      self.grad += 1.0 * out.grad\n",
        "      other.grad += 1.0 * out.grad\n",
        "    other = other if isinstance(other, Value) else Value(other)\n",
        "    out = Value(self.data + other.data, (self, other), \"+\")\n",
        "    out._backward = _backward\n",
        "    return out\n",
        "\n",
        "  def __sub__(self, other):\n",
        "    return self + (-other)\n",
        "\n",
        "  def __neg__(self):\n",
        "    return self * -1\n",
        "\n",
        "  def __mul__(self, other):\n",
        "    def _backward():\n",
        "      self.grad += other.data * out.grad\n",
        "      other.grad += self.data * out.grad\n",
        "    other = other if isinstance(other, Value) else Value(other)\n",
        "    out = Value(self.data * other.data, (self, other), \"*\")\n",
        "    out._backward = _backward\n",
        "    return out\n",
        "\n",
        "    return out\n",
        "\n",
        "  def __rmul__(self, other):\n",
        "    return self * other\n",
        "\n",
        "  def __radd__(self, other):\n",
        "    return self + other\n",
        "\n",
        "  def __truediv__(self, other):\n",
        "    return self * (other**-1)\n",
        "\n",
        "  def __pow__(self, other):\n",
        "    assert isinstance(other, (int, float)), \"only supporting int/float powers for now\"\n",
        "    out = Value(self.data**other, (self, ), f\"**{other}\")\n",
        "    def _backward():\n",
        "      self.grad += other * (self.data**(other - 1)) * out.grad\n",
        "    out._backward = _backward\n",
        "    return out\n",
        "\n",
        "  def tanh(self):\n",
        "    def _backward():\n",
        "      self.grad += (1 - t**2) * out.grad\n",
        "    x = self.data\n",
        "    t = (math.exp(2*x) - 1)/(math.exp(2*x) + 1)\n",
        "    out = Value(t, (self, ), \"tanh\")\n",
        "    out._backward = _backward\n",
        "    return out\n",
        "\n",
        "  def backward(self):\n",
        "    def build_topo(v):\n",
        "      if v not in visited:\n",
        "        visited.add(v)\n",
        "        for child in v._prev:\n",
        "          build_topo(child)\n",
        "        topo.append(v)\n",
        "    topo = []\n",
        "    visited = set()\n",
        "    build_topo(self)\n",
        "    self.grad = 1.0\n",
        "    for node in reversed(topo):\n",
        "      node._backward()\n",
        "\n",
        "  def exp(self):\n",
        "    def _backward():\n",
        "      self.grad += out.data * out.grad\n",
        "    x = self.data\n",
        "    out = Value(math.exp(x), (self, ), \"exp\")\n",
        "    out._backward = _backward\n",
        "    return out"
      ]
    },
    {
      "cell_type": "code",
      "execution_count": 160,
      "metadata": {
        "id": "-Loa4F2wtbgV"
      },
      "outputs": [],
      "source": [
        "from graphviz import Digraph\n",
        "\n",
        "def trace(root):\n",
        "  nodes, edges = set(), set()\n",
        "  def build(v):\n",
        "    if v not in nodes:\n",
        "      nodes.add(v)\n",
        "      for child in v._prev:\n",
        "        edges.add((child, v))\n",
        "        build(child)\n",
        "  build(root)\n",
        "  return nodes, edges\n",
        "\n",
        "\n",
        "def draw_dot(root):\n",
        "  dot = Digraph(format = 'svg', graph_attr={'rankdir':'LR'})\n",
        "  nodes, edges = trace(root)\n",
        "\n",
        "  for n in nodes:\n",
        "    uid = str(id(n))\n",
        "    # For any value in the graph, create a rectangular {'record'} node for it\n",
        "    dot.node(name = uid, label = \"{%s | data = %.4f| grad = %.4f}\" % (n.label, n.data, n.grad), shape = 'record')\n",
        "    if n._op:\n",
        "      # If this value is a result of some operation, create an op node for it\n",
        "      dot.node(name = uid + n._op, label = n._op)\n",
        "      #  And connect tghis node to it\n",
        "      dot.edge(uid + n._op, uid)\n",
        "\n",
        "  for n1, n2 in edges:\n",
        "    # Connect n1 to the op node of n2\n",
        "    dot.edge(str(id(n1)), str(id(n2)) + n2._op)\n",
        "\n",
        "  return dot"
      ]
    },
    {
      "cell_type": "code",
      "execution_count": 161,
      "metadata": {
        "id": "IQKjB97v7o0z"
      },
      "outputs": [],
      "source": [
        "x1 = Value(2.0, label = 'x1')\n",
        "x2 = Value(0.0, label = 'x2')\n",
        "w1 = Value(-3.0, label = 'w1')\n",
        "w2 = Value(1.0, label = 'w2')\n",
        "b = Value(6.8813735870195432, label = 'b')\n",
        "\n",
        "x1w1 = x1 * w1; x1w1.label = 'x1w1'\n",
        "x2w2 = x2 * w2; x2w2.label = 'x2w2'\n",
        "\n",
        "x1w1x2w2 = x1w1 + x2w2; x1w1x2w2.label = 'x1w1x2w2'\n",
        "\n",
        "n = x1w1x2w2 + b; n.label = 'n'\n",
        "\n",
        "o = n.tanh(); o.label = 'o'"
      ]
    },
    {
      "cell_type": "code",
      "execution_count": 162,
      "metadata": {
        "id": "BmrFj31sKcEL"
      },
      "outputs": [],
      "source": [
        "o.backward()"
      ]
    },
    {
      "cell_type": "code",
      "execution_count": 163,
      "metadata": {
        "colab": {
          "base_uri": "https://localhost:8080/",
          "height": 321
        },
        "id": "8sWrdQ2S85Ij",
        "outputId": "314b0ef5-3d36-4020-9f90-b65d33fb1f2d"
      },
      "outputs": [
        {
          "data": {
            "image/svg+xml": [
              "<?xml version=\"1.0\" encoding=\"UTF-8\" standalone=\"no\"?>\n",
              "<!DOCTYPE svg PUBLIC \"-//W3C//DTD SVG 1.1//EN\"\n",
              " \"http://www.w3.org/Graphics/SVG/1.1/DTD/svg11.dtd\">\n",
              "<!-- Generated by graphviz version 2.43.0 (0)\n",
              " -->\n",
              "<!-- Title: %3 Pages: 1 -->\n",
              "<svg width=\"1660pt\" height=\"210pt\"\n",
              " viewBox=\"0.00 0.00 1660.00 210.00\" xmlns=\"http://www.w3.org/2000/svg\" xmlns:xlink=\"http://www.w3.org/1999/xlink\">\n",
              "<g id=\"graph0\" class=\"graph\" transform=\"scale(1 1) rotate(0) translate(4 206)\">\n",
              "<title>%3</title>\n",
              "<polygon fill=\"white\" stroke=\"transparent\" points=\"-4,4 -4,-206 1656,-206 1656,4 -4,4\"/>\n",
              "<!-- 139774497927184 -->\n",
              "<g id=\"node1\" class=\"node\">\n",
              "<title>139774497927184</title>\n",
              "<polygon fill=\"none\" stroke=\"black\" points=\"743.5,-137.5 743.5,-173.5 952.5,-173.5 952.5,-137.5 743.5,-137.5\"/>\n",
              "<text text-anchor=\"middle\" x=\"755\" y=\"-151.8\" font-family=\"Times,serif\" font-size=\"14.00\">b</text>\n",
              "<polyline fill=\"none\" stroke=\"black\" points=\"766.5,-137.5 766.5,-173.5 \"/>\n",
              "<text text-anchor=\"middle\" x=\"812.5\" y=\"-151.8\" font-family=\"Times,serif\" font-size=\"14.00\">data = 6.8814</text>\n",
              "<polyline fill=\"none\" stroke=\"black\" points=\"858.5,-137.5 858.5,-173.5 \"/>\n",
              "<text text-anchor=\"middle\" x=\"905.5\" y=\"-151.8\" font-family=\"Times,serif\" font-size=\"14.00\">grad = 0.5000</text>\n",
              "</g>\n",
              "<!-- 139774497920272+ -->\n",
              "<g id=\"node11\" class=\"node\">\n",
              "<title>139774497920272+</title>\n",
              "<ellipse fill=\"none\" stroke=\"black\" cx=\"1045\" cy=\"-127.5\" rx=\"27\" ry=\"18\"/>\n",
              "<text text-anchor=\"middle\" x=\"1045\" y=\"-123.8\" font-family=\"Times,serif\" font-size=\"14.00\">+</text>\n",
              "</g>\n",
              "<!-- 139774497927184&#45;&gt;139774497920272+ -->\n",
              "<g id=\"edge13\" class=\"edge\">\n",
              "<title>139774497927184&#45;&gt;139774497920272+</title>\n",
              "<path fill=\"none\" stroke=\"black\" d=\"M952.78,-140.6C972.59,-137.75 992.04,-134.96 1007.87,-132.69\"/>\n",
              "<polygon fill=\"black\" stroke=\"black\" points=\"1008.8,-136.09 1018.2,-131.2 1007.81,-129.16 1008.8,-136.09\"/>\n",
              "</g>\n",
              "<!-- 139774497923104 -->\n",
              "<g id=\"node2\" class=\"node\">\n",
              "<title>139774497923104</title>\n",
              "<polygon fill=\"none\" stroke=\"black\" points=\"714,-82.5 714,-118.5 982,-118.5 982,-82.5 714,-82.5\"/>\n",
              "<text text-anchor=\"middle\" x=\"752.5\" y=\"-96.8\" font-family=\"Times,serif\" font-size=\"14.00\">x1w1x2w2</text>\n",
              "<polyline fill=\"none\" stroke=\"black\" points=\"791,-82.5 791,-118.5 \"/>\n",
              "<text text-anchor=\"middle\" x=\"839.5\" y=\"-96.8\" font-family=\"Times,serif\" font-size=\"14.00\">data = &#45;6.0000</text>\n",
              "<polyline fill=\"none\" stroke=\"black\" points=\"888,-82.5 888,-118.5 \"/>\n",
              "<text text-anchor=\"middle\" x=\"935\" y=\"-96.8\" font-family=\"Times,serif\" font-size=\"14.00\">grad = 0.5000</text>\n",
              "</g>\n",
              "<!-- 139774497923104&#45;&gt;139774497920272+ -->\n",
              "<g id=\"edge10\" class=\"edge\">\n",
              "<title>139774497923104&#45;&gt;139774497920272+</title>\n",
              "<path fill=\"none\" stroke=\"black\" d=\"M979.07,-118.51C989.6,-119.97 999.55,-121.35 1008.36,-122.57\"/>\n",
              "<polygon fill=\"black\" stroke=\"black\" points=\"1008.12,-126.06 1018.5,-123.97 1009.08,-119.13 1008.12,-126.06\"/>\n",
              "</g>\n",
              "<!-- 139774497923104+ -->\n",
              "<g id=\"node3\" class=\"node\">\n",
              "<title>139774497923104+</title>\n",
              "<ellipse fill=\"none\" stroke=\"black\" cx=\"651\" cy=\"-100.5\" rx=\"27\" ry=\"18\"/>\n",
              "<text text-anchor=\"middle\" x=\"651\" y=\"-96.8\" font-family=\"Times,serif\" font-size=\"14.00\">+</text>\n",
              "</g>\n",
              "<!-- 139774497923104+&#45;&gt;139774497923104 -->\n",
              "<g id=\"edge1\" class=\"edge\">\n",
              "<title>139774497923104+&#45;&gt;139774497923104</title>\n",
              "<path fill=\"none\" stroke=\"black\" d=\"M678.3,-100.5C685.63,-100.5 694.14,-100.5 703.36,-100.5\"/>\n",
              "<polygon fill=\"black\" stroke=\"black\" points=\"703.63,-104 713.63,-100.5 703.63,-97 703.63,-104\"/>\n",
              "</g>\n",
              "<!-- 139774497922096 -->\n",
              "<g id=\"node4\" class=\"node\">\n",
              "<title>139774497922096</title>\n",
              "<polygon fill=\"none\" stroke=\"black\" points=\"352.5,-110.5 352.5,-146.5 585.5,-146.5 585.5,-110.5 352.5,-110.5\"/>\n",
              "<text text-anchor=\"middle\" x=\"376\" y=\"-124.8\" font-family=\"Times,serif\" font-size=\"14.00\">x2w2</text>\n",
              "<polyline fill=\"none\" stroke=\"black\" points=\"399.5,-110.5 399.5,-146.5 \"/>\n",
              "<text text-anchor=\"middle\" x=\"445.5\" y=\"-124.8\" font-family=\"Times,serif\" font-size=\"14.00\">data = 0.0000</text>\n",
              "<polyline fill=\"none\" stroke=\"black\" points=\"491.5,-110.5 491.5,-146.5 \"/>\n",
              "<text text-anchor=\"middle\" x=\"538.5\" y=\"-124.8\" font-family=\"Times,serif\" font-size=\"14.00\">grad = 0.5000</text>\n",
              "</g>\n",
              "<!-- 139774497922096&#45;&gt;139774497923104+ -->\n",
              "<g id=\"edge12\" class=\"edge\">\n",
              "<title>139774497922096&#45;&gt;139774497923104+</title>\n",
              "<path fill=\"none\" stroke=\"black\" d=\"M585.52,-110.53C595.84,-108.92 605.67,-107.4 614.41,-106.04\"/>\n",
              "<polygon fill=\"black\" stroke=\"black\" points=\"615.14,-109.47 624.48,-104.47 614.06,-102.55 615.14,-109.47\"/>\n",
              "</g>\n",
              "<!-- 139774497922096* -->\n",
              "<g id=\"node5\" class=\"node\">\n",
              "<title>139774497922096*</title>\n",
              "<ellipse fill=\"none\" stroke=\"black\" cx=\"287\" cy=\"-128.5\" rx=\"27\" ry=\"18\"/>\n",
              "<text text-anchor=\"middle\" x=\"287\" y=\"-124.8\" font-family=\"Times,serif\" font-size=\"14.00\">*</text>\n",
              "</g>\n",
              "<!-- 139774497922096*&#45;&gt;139774497922096 -->\n",
              "<g id=\"edge2\" class=\"edge\">\n",
              "<title>139774497922096*&#45;&gt;139774497922096</title>\n",
              "<path fill=\"none\" stroke=\"black\" d=\"M314.17,-128.5C322.3,-128.5 331.86,-128.5 342.17,-128.5\"/>\n",
              "<polygon fill=\"black\" stroke=\"black\" points=\"342.26,-132 352.26,-128.5 342.26,-125 342.26,-132\"/>\n",
              "</g>\n",
              "<!-- 139774497928288 -->\n",
              "<g id=\"node6\" class=\"node\">\n",
              "<title>139774497928288</title>\n",
              "<polygon fill=\"none\" stroke=\"black\" points=\"4,-165.5 4,-201.5 220,-201.5 220,-165.5 4,-165.5\"/>\n",
              "<text text-anchor=\"middle\" x=\"19\" y=\"-179.8\" font-family=\"Times,serif\" font-size=\"14.00\">x2</text>\n",
              "<polyline fill=\"none\" stroke=\"black\" points=\"34,-165.5 34,-201.5 \"/>\n",
              "<text text-anchor=\"middle\" x=\"80\" y=\"-179.8\" font-family=\"Times,serif\" font-size=\"14.00\">data = 0.0000</text>\n",
              "<polyline fill=\"none\" stroke=\"black\" points=\"126,-165.5 126,-201.5 \"/>\n",
              "<text text-anchor=\"middle\" x=\"173\" y=\"-179.8\" font-family=\"Times,serif\" font-size=\"14.00\">grad = 0.5000</text>\n",
              "</g>\n",
              "<!-- 139774497928288&#45;&gt;139774497922096* -->\n",
              "<g id=\"edge6\" class=\"edge\">\n",
              "<title>139774497928288&#45;&gt;139774497922096*</title>\n",
              "<path fill=\"none\" stroke=\"black\" d=\"M194.74,-165.46C204.67,-162.72 214.62,-159.73 224,-156.5 234.58,-152.86 245.82,-148.08 255.78,-143.5\"/>\n",
              "<polygon fill=\"black\" stroke=\"black\" points=\"257.32,-146.65 264.88,-139.22 254.34,-140.31 257.32,-146.65\"/>\n",
              "</g>\n",
              "<!-- 139774497925264 -->\n",
              "<g id=\"node7\" class=\"node\">\n",
              "<title>139774497925264</title>\n",
              "<polygon fill=\"none\" stroke=\"black\" points=\"2.5,-110.5 2.5,-146.5 221.5,-146.5 221.5,-110.5 2.5,-110.5\"/>\n",
              "<text text-anchor=\"middle\" x=\"19\" y=\"-124.8\" font-family=\"Times,serif\" font-size=\"14.00\">w2</text>\n",
              "<polyline fill=\"none\" stroke=\"black\" points=\"35.5,-110.5 35.5,-146.5 \"/>\n",
              "<text text-anchor=\"middle\" x=\"81.5\" y=\"-124.8\" font-family=\"Times,serif\" font-size=\"14.00\">data = 1.0000</text>\n",
              "<polyline fill=\"none\" stroke=\"black\" points=\"127.5,-110.5 127.5,-146.5 \"/>\n",
              "<text text-anchor=\"middle\" x=\"174.5\" y=\"-124.8\" font-family=\"Times,serif\" font-size=\"14.00\">grad = 0.0000</text>\n",
              "</g>\n",
              "<!-- 139774497925264&#45;&gt;139774497922096* -->\n",
              "<g id=\"edge14\" class=\"edge\">\n",
              "<title>139774497925264&#45;&gt;139774497922096*</title>\n",
              "<path fill=\"none\" stroke=\"black\" d=\"M221.58,-128.5C231.51,-128.5 241.02,-128.5 249.55,-128.5\"/>\n",
              "<polygon fill=\"black\" stroke=\"black\" points=\"249.77,-132 259.77,-128.5 249.77,-125 249.77,-132\"/>\n",
              "</g>\n",
              "<!-- 139774497921712 -->\n",
              "<g id=\"node8\" class=\"node\">\n",
              "<title>139774497921712</title>\n",
              "<polygon fill=\"none\" stroke=\"black\" points=\"2,-55.5 2,-91.5 222,-91.5 222,-55.5 2,-55.5\"/>\n",
              "<text text-anchor=\"middle\" x=\"17\" y=\"-69.8\" font-family=\"Times,serif\" font-size=\"14.00\">x1</text>\n",
              "<polyline fill=\"none\" stroke=\"black\" points=\"32,-55.5 32,-91.5 \"/>\n",
              "<text text-anchor=\"middle\" x=\"78\" y=\"-69.8\" font-family=\"Times,serif\" font-size=\"14.00\">data = 2.0000</text>\n",
              "<polyline fill=\"none\" stroke=\"black\" points=\"124,-55.5 124,-91.5 \"/>\n",
              "<text text-anchor=\"middle\" x=\"173\" y=\"-69.8\" font-family=\"Times,serif\" font-size=\"14.00\">grad = &#45;1.5000</text>\n",
              "</g>\n",
              "<!-- 139774497922384* -->\n",
              "<g id=\"node13\" class=\"node\">\n",
              "<title>139774497922384*</title>\n",
              "<ellipse fill=\"none\" stroke=\"black\" cx=\"287\" cy=\"-73.5\" rx=\"27\" ry=\"18\"/>\n",
              "<text text-anchor=\"middle\" x=\"287\" y=\"-69.8\" font-family=\"Times,serif\" font-size=\"14.00\">*</text>\n",
              "</g>\n",
              "<!-- 139774497921712&#45;&gt;139774497922384* -->\n",
              "<g id=\"edge8\" class=\"edge\">\n",
              "<title>139774497921712&#45;&gt;139774497922384*</title>\n",
              "<path fill=\"none\" stroke=\"black\" d=\"M222.07,-73.5C231.94,-73.5 241.39,-73.5 249.85,-73.5\"/>\n",
              "<polygon fill=\"black\" stroke=\"black\" points=\"249.99,-77 259.99,-73.5 249.99,-70 249.99,-77\"/>\n",
              "</g>\n",
              "<!-- 139774497925840 -->\n",
              "<g id=\"node9\" class=\"node\">\n",
              "<title>139774497925840</title>\n",
              "<polygon fill=\"none\" stroke=\"black\" points=\"0,-0.5 0,-36.5 224,-36.5 224,-0.5 0,-0.5\"/>\n",
              "<text text-anchor=\"middle\" x=\"16.5\" y=\"-14.8\" font-family=\"Times,serif\" font-size=\"14.00\">w1</text>\n",
              "<polyline fill=\"none\" stroke=\"black\" points=\"33,-0.5 33,-36.5 \"/>\n",
              "<text text-anchor=\"middle\" x=\"81.5\" y=\"-14.8\" font-family=\"Times,serif\" font-size=\"14.00\">data = &#45;3.0000</text>\n",
              "<polyline fill=\"none\" stroke=\"black\" points=\"130,-0.5 130,-36.5 \"/>\n",
              "<text text-anchor=\"middle\" x=\"177\" y=\"-14.8\" font-family=\"Times,serif\" font-size=\"14.00\">grad = 1.0000</text>\n",
              "</g>\n",
              "<!-- 139774497925840&#45;&gt;139774497922384* -->\n",
              "<g id=\"edge9\" class=\"edge\">\n",
              "<title>139774497925840&#45;&gt;139774497922384*</title>\n",
              "<path fill=\"none\" stroke=\"black\" d=\"M191.4,-36.57C202.43,-39.6 213.56,-42.94 224,-46.5 234.33,-50.03 245.34,-54.55 255.17,-58.89\"/>\n",
              "<polygon fill=\"black\" stroke=\"black\" points=\"253.98,-62.19 264.54,-63.12 256.86,-55.81 253.98,-62.19\"/>\n",
              "</g>\n",
              "<!-- 139774497920272 -->\n",
              "<g id=\"node10\" class=\"node\">\n",
              "<title>139774497920272</title>\n",
              "<polygon fill=\"none\" stroke=\"black\" points=\"1108,-109.5 1108,-145.5 1317,-145.5 1317,-109.5 1108,-109.5\"/>\n",
              "<text text-anchor=\"middle\" x=\"1119.5\" y=\"-123.8\" font-family=\"Times,serif\" font-size=\"14.00\">n</text>\n",
              "<polyline fill=\"none\" stroke=\"black\" points=\"1131,-109.5 1131,-145.5 \"/>\n",
              "<text text-anchor=\"middle\" x=\"1177\" y=\"-123.8\" font-family=\"Times,serif\" font-size=\"14.00\">data = 0.8814</text>\n",
              "<polyline fill=\"none\" stroke=\"black\" points=\"1223,-109.5 1223,-145.5 \"/>\n",
              "<text text-anchor=\"middle\" x=\"1270\" y=\"-123.8\" font-family=\"Times,serif\" font-size=\"14.00\">grad = 0.5000</text>\n",
              "</g>\n",
              "<!-- 139774497928048tanh -->\n",
              "<g id=\"node15\" class=\"node\">\n",
              "<title>139774497928048tanh</title>\n",
              "<ellipse fill=\"none\" stroke=\"black\" cx=\"1380\" cy=\"-127.5\" rx=\"27\" ry=\"18\"/>\n",
              "<text text-anchor=\"middle\" x=\"1380\" y=\"-123.8\" font-family=\"Times,serif\" font-size=\"14.00\">tanh</text>\n",
              "</g>\n",
              "<!-- 139774497920272&#45;&gt;139774497928048tanh -->\n",
              "<g id=\"edge11\" class=\"edge\">\n",
              "<title>139774497920272&#45;&gt;139774497928048tanh</title>\n",
              "<path fill=\"none\" stroke=\"black\" d=\"M1317.37,-127.5C1326.3,-127.5 1334.88,-127.5 1342.65,-127.5\"/>\n",
              "<polygon fill=\"black\" stroke=\"black\" points=\"1342.71,-131 1352.71,-127.5 1342.71,-124 1342.71,-131\"/>\n",
              "</g>\n",
              "<!-- 139774497920272+&#45;&gt;139774497920272 -->\n",
              "<g id=\"edge3\" class=\"edge\">\n",
              "<title>139774497920272+&#45;&gt;139774497920272</title>\n",
              "<path fill=\"none\" stroke=\"black\" d=\"M1072.22,-127.5C1079.8,-127.5 1088.59,-127.5 1097.99,-127.5\"/>\n",
              "<polygon fill=\"black\" stroke=\"black\" points=\"1097.99,-131 1107.99,-127.5 1097.99,-124 1097.99,-131\"/>\n",
              "</g>\n",
              "<!-- 139774497922384 -->\n",
              "<g id=\"node12\" class=\"node\">\n",
              "<title>139774497922384</title>\n",
              "<polygon fill=\"none\" stroke=\"black\" points=\"350,-55.5 350,-91.5 588,-91.5 588,-55.5 350,-55.5\"/>\n",
              "<text text-anchor=\"middle\" x=\"373.5\" y=\"-69.8\" font-family=\"Times,serif\" font-size=\"14.00\">x1w1</text>\n",
              "<polyline fill=\"none\" stroke=\"black\" points=\"397,-55.5 397,-91.5 \"/>\n",
              "<text text-anchor=\"middle\" x=\"445.5\" y=\"-69.8\" font-family=\"Times,serif\" font-size=\"14.00\">data = &#45;6.0000</text>\n",
              "<polyline fill=\"none\" stroke=\"black\" points=\"494,-55.5 494,-91.5 \"/>\n",
              "<text text-anchor=\"middle\" x=\"541\" y=\"-69.8\" font-family=\"Times,serif\" font-size=\"14.00\">grad = 0.5000</text>\n",
              "</g>\n",
              "<!-- 139774497922384&#45;&gt;139774497923104+ -->\n",
              "<g id=\"edge7\" class=\"edge\">\n",
              "<title>139774497922384&#45;&gt;139774497923104+</title>\n",
              "<path fill=\"none\" stroke=\"black\" d=\"M588.05,-91.21C597.45,-92.62 606.4,-93.96 614.42,-95.16\"/>\n",
              "<polygon fill=\"black\" stroke=\"black\" points=\"613.99,-98.64 624.4,-96.66 615.03,-91.71 613.99,-98.64\"/>\n",
              "</g>\n",
              "<!-- 139774497922384*&#45;&gt;139774497922384 -->\n",
              "<g id=\"edge4\" class=\"edge\">\n",
              "<title>139774497922384*&#45;&gt;139774497922384</title>\n",
              "<path fill=\"none\" stroke=\"black\" d=\"M314.17,-73.5C321.7,-73.5 330.45,-73.5 339.89,-73.5\"/>\n",
              "<polygon fill=\"black\" stroke=\"black\" points=\"339.95,-77 349.95,-73.5 339.95,-70 339.95,-77\"/>\n",
              "</g>\n",
              "<!-- 139774497928048 -->\n",
              "<g id=\"node14\" class=\"node\">\n",
              "<title>139774497928048</title>\n",
              "<polygon fill=\"none\" stroke=\"black\" points=\"1443,-109.5 1443,-145.5 1652,-145.5 1652,-109.5 1443,-109.5\"/>\n",
              "<text text-anchor=\"middle\" x=\"1454.5\" y=\"-123.8\" font-family=\"Times,serif\" font-size=\"14.00\">o</text>\n",
              "<polyline fill=\"none\" stroke=\"black\" points=\"1466,-109.5 1466,-145.5 \"/>\n",
              "<text text-anchor=\"middle\" x=\"1512\" y=\"-123.8\" font-family=\"Times,serif\" font-size=\"14.00\">data = 0.7071</text>\n",
              "<polyline fill=\"none\" stroke=\"black\" points=\"1558,-109.5 1558,-145.5 \"/>\n",
              "<text text-anchor=\"middle\" x=\"1605\" y=\"-123.8\" font-family=\"Times,serif\" font-size=\"14.00\">grad = 1.0000</text>\n",
              "</g>\n",
              "<!-- 139774497928048tanh&#45;&gt;139774497928048 -->\n",
              "<g id=\"edge5\" class=\"edge\">\n",
              "<title>139774497928048tanh&#45;&gt;139774497928048</title>\n",
              "<path fill=\"none\" stroke=\"black\" d=\"M1407.22,-127.5C1414.8,-127.5 1423.59,-127.5 1432.99,-127.5\"/>\n",
              "<polygon fill=\"black\" stroke=\"black\" points=\"1432.99,-131 1442.99,-127.5 1432.99,-124 1432.99,-131\"/>\n",
              "</g>\n",
              "</g>\n",
              "</svg>\n"
            ],
            "text/plain": [
              "<graphviz.graphs.Digraph at 0x7f1fc94c2bc0>"
            ]
          },
          "execution_count": 163,
          "metadata": {},
          "output_type": "execute_result"
        }
      ],
      "source": [
        "draw_dot(o)"
      ]
    },
    {
      "cell_type": "code",
      "execution_count": 164,
      "metadata": {
        "id": "ACoUQzwzF85E"
      },
      "outputs": [],
      "source": [
        "x1 = Value(2.0, label = 'x1')\n",
        "x2 = Value(0.0, label = 'x2')\n",
        "w1 = Value(-3.0, label = 'w1')\n",
        "w2 = Value(1.0, label = 'w2')\n",
        "b = Value(6.8813735870195432, label = 'b')\n",
        "\n",
        "x1w1 = x1 * w1; x1w1.label = 'x1w1'\n",
        "x2w2 = x2 * w2; x2w2.label = 'x2w2'\n",
        "\n",
        "x1w1x2w2 = x1w1 + x2w2; x1w1x2w2.label = 'x1w1x2w2'\n",
        "\n",
        "n = x1w1x2w2 + b; n.label = 'n'\n",
        "#\n",
        "e = (2*n).exp()\n",
        "o = (e - 1) / (e + 1)\n",
        "#\n",
        "o.label = 'o'\n",
        "o.backward()\n",
        "# draw_dot(o)"
      ]
    },
    {
      "cell_type": "code",
      "execution_count": 165,
      "metadata": {
        "colab": {
          "base_uri": "https://localhost:8080/"
        },
        "id": "O_wcT8xv9gsa",
        "outputId": "6f75ac40-e5d0-4766-a8f2-0cea5bc9525a"
      },
      "outputs": [
        {
          "name": "stdout",
          "output_type": "stream",
          "text": [
            "0.7071066904050358\n"
          ]
        }
      ],
      "source": [
        "import torch\n",
        "\n",
        "x1 = torch.Tensor([2.0]).double(); x1.requires_grad = True\n",
        "x2 = torch.Tensor([0.0]).double(); x2.requires_grad = True\n",
        "w1 = torch.Tensor([-3.0]).double(); w1.requires_grad = True\n",
        "w2 = torch.Tensor([1.0]).double(); w2.requires_grad = True\n",
        "b = torch.Tensor([6.8813735870195432]).double(); b.requires_grad = True\n",
        "n = x1*w1 + x2*w2 + b\n",
        "o = torch.tanh(n)\n",
        "\n",
        "print(o.data.item())\n",
        "o.backward()\n",
        "\n",
        "# print()\n",
        "# print('x2 = ', x2.grad.item())\n",
        "# print('w2 = ', w2.grad.item())\n",
        "# print('x1 = ', x1.grad.item())\n",
        "# print('w1 = ', w1.grad.item())"
      ]
    },
    {
      "cell_type": "code",
      "execution_count": 166,
      "metadata": {
        "id": "fbbDG-li9go-"
      },
      "outputs": [],
      "source": [
        "class Neuron:\n",
        "  def __init__(self, nin):\n",
        "    self.w = [Value(random.uniform(-1, 1)) for _ in range(nin)]\n",
        "    self.b = Value(random.uniform(-1, 1))\n",
        "\n",
        "  def __call__(self, x):\n",
        "    act = sum((wi * xi for wi, xi in zip(self.w, x)), self.b)\n",
        "    out = act.tanh()\n",
        "    return out\n",
        "\n",
        "  def parameters(self):\n",
        "    return self.w + [self.b]\n",
        "\n",
        "class Layer:\n",
        "  def __init__(self, nin, nout):\n",
        "    self.neurons = [Neuron(nin) for _ in range(nout)]\n",
        "\n",
        "  def __call__(self, x):\n",
        "    outs = [n(x) for  n in self.neurons]\n",
        "    return outs[0] if len(outs) == 1 else outs\n",
        "\n",
        "  def parameters(self):\n",
        "    params = []\n",
        "    for neuron in self.neurons:\n",
        "      ps = neuron.parameters()\n",
        "      params.extend(ps)\n",
        "    return params\n",
        "\n",
        "class MLP:\n",
        "  def __init__(self, nin, nouts):\n",
        "    sz = [nin] + nouts\n",
        "    self.layers = [Layer(sz[i], sz[i+1]) for i in range(len(nouts))]\n",
        "\n",
        "  def __call__(self, x):\n",
        "    for layer in self.layers:\n",
        "      x = layer(x)\n",
        "    return x\n",
        "\n",
        "  def parameters(self):\n",
        "    params = []\n",
        "    for layer in self.layers:\n",
        "      ps = layer.parameters()\n",
        "      params.extend(ps)\n",
        "    return params"
      ]
    },
    {
      "cell_type": "code",
      "execution_count": 170,
      "metadata": {
        "collapsed": true,
        "id": "byXs0uFHCGOn"
      },
      "outputs": [],
      "source": [
        "xs =[\n",
        "     [2.0,3.0,-1.0],\n",
        "     [3.0,-1.0,0.5],\n",
        "     [0.5,1.0,1.0],\n",
        "     [1.0,1.0,-1.0]\n",
        "]\n",
        "\n",
        "ys = [1.0,-1.0,-1.0,1.0]\n",
        "\n",
        "x = [2.0, 3.0, -1.0]\n",
        "n = MLP(3, [4,4,1])"
      ]
    },
    {
      "cell_type": "code",
      "execution_count": 171,
      "metadata": {
        "colab": {
          "base_uri": "https://localhost:8080/"
        },
        "id": "nDXPzlDFCGE0",
        "outputId": "f0dfd223-862a-4a1b-8927-4b01743ef446"
      },
      "outputs": [
        {
          "data": {
            "text/plain": [
              "[Value(data = 0.9287985232595329),\n",
              " Value(data = 0.006570729982804604),\n",
              " Value(data = 0.8427788164648328),\n",
              " Value(data = 0.5159399664529335)]"
            ]
          },
          "execution_count": 171,
          "metadata": {},
          "output_type": "execute_result"
        }
      ],
      "source": [
        "ypred = [n(x) for x in xs]\n",
        "ypred"
      ]
    },
    {
      "cell_type": "code",
      "execution_count": 172,
      "metadata": {
        "colab": {
          "base_uri": "https://localhost:8080/"
        },
        "id": "iwPO7T7zErZL",
        "outputId": "f74a245a-82d2-4cba-eaab-4f7f784bccf0"
      },
      "outputs": [
        {
          "data": {
            "text/plain": [
              "Value(data = 4.648402167237256)"
            ]
          },
          "execution_count": 172,
          "metadata": {},
          "output_type": "execute_result"
        }
      ],
      "source": [
        "#  Mean Squared Error\n",
        "loss = sum((yout - ygt)**2 for ygt, yout in zip(ys, ypred))\n",
        "loss.backward()\n",
        "loss"
      ]
    },
    {
      "cell_type": "code",
      "execution_count": 173,
      "metadata": {
        "id": "xUH96r_cTjmw"
      },
      "outputs": [],
      "source": [
        "for p in n.parameters():\n",
        "  p.data += -0.15 * p.grad"
      ]
    },
    {
      "cell_type": "code",
      "execution_count": 182,
      "metadata": {
        "colab": {
          "base_uri": "https://localhost:8080/"
        },
        "collapsed": true,
        "id": "OfXRHm25T1ZB",
        "outputId": "fa0e103e-d1f7-4ad6-f5bd-295b2eedea20"
      },
      "outputs": [
        {
          "name": "stdout",
          "output_type": "stream",
          "text": [
            "0 0.005085611424578265\n",
            "1 0.005029331327618616\n",
            "2 0.004974238870404445\n",
            "3 0.004920297333594214\n",
            "4 0.00486747148583316\n",
            "5 0.00481572750946292\n",
            "6 0.004765032930624181\n",
            "7 0.004715356553453128\n",
            "8 0.004666668398095734\n",
            "9 0.004618939642283808\n",
            "10 0.004572142566237561\n",
            "11 0.004526250500675657\n",
            "12 0.004481237777731211\n",
            "13 0.004437079684585999\n",
            "14 0.004393752419649469\n",
            "15 0.0043512330511213775\n",
            "16 0.004309499477788522\n",
            "17 0.004268530391916588\n",
            "18 0.004228305244107886\n",
            "19 0.004188804210004918\n",
            "20 0.004150008158727729\n",
            "21 0.0041118986229410695\n",
            "22 0.004074457770454033\n",
            "23 0.004037668377261774\n",
            "24 0.004001513801944578\n"
          ]
        }
      ],
      "source": [
        "for k in range(25):\n",
        "  # forward pass\n",
        "  ypred = [n(x) for x in xs]\n",
        "  loss = sum((yout - ygt)**2 for ygt, yout in zip(ys, ypred))\n",
        "\n",
        "  # backward pass\n",
        "  for p in n.parameters():\n",
        "    p.grad = 0.0\n",
        "\n",
        "  loss.backward()\n",
        "\n",
        "  # update\n",
        "  for p in n.parameters():\n",
        "    p.data -= 0.05 * p.grad\n",
        "  print(k, loss.data)"
      ]
    },
    {
      "cell_type": "code",
      "execution_count": 183,
      "metadata": {
        "colab": {
          "base_uri": "https://localhost:8080/"
        },
        "id": "htmw1e6wYBTY",
        "outputId": "667c4a14-4532-47d5-da02-3e440a99225f"
      },
      "outputs": [
        {
          "data": {
            "text/plain": [
              "[Value(data = 0.980219824418177),\n",
              " Value(data = -0.9863843642736613),\n",
              " Value(data = -0.9584421444678815),\n",
              " Value(data = 0.9587954181766634)]"
            ]
          },
          "execution_count": 183,
          "metadata": {},
          "output_type": "execute_result"
        }
      ],
      "source": [
        "ypred"
      ]
    }
  ],
  "metadata": {
    "colab": {
      "provenance": []
    },
    "kernelspec": {
      "display_name": "Python 3",
      "name": "python3"
    },
    "language_info": {
      "name": "python"
    }
  },
  "nbformat": 4,
  "nbformat_minor": 0
}
